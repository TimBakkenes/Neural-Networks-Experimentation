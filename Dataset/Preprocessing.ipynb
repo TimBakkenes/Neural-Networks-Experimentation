{
 "cells": [
  {
   "cell_type": "markdown",
   "id": "84ea8eb8",
   "metadata": {},
   "source": [
    "# Data preprocessing\n",
    "\n",
    "## Load datasets"
   ]
  },
  {
   "cell_type": "code",
   "execution_count": 1,
   "id": "3212ef3c",
   "metadata": {},
   "outputs": [],
   "source": [
    "# Imports\n",
    "import numpy as np\n",
    "import pandas as pd"
   ]
  },
  {
   "cell_type": "markdown",
   "id": "97f407d5",
   "metadata": {},
   "source": [
    "### !!ASSUMES LOCAL FOLDER 'DATA' WITH DOWNLOADED DATASETS!!"
   ]
  },
  {
   "cell_type": "code",
   "execution_count": 2,
   "id": "2de30cae",
   "metadata": {},
   "outputs": [],
   "source": [
    "train_path = './data/exoTrain.csv'\n",
    "test_path = './data/exoTest.csv'"
   ]
  },
  {
   "cell_type": "code",
   "execution_count": 3,
   "id": "eec02669",
   "metadata": {},
   "outputs": [
    {
     "name": "stdout",
     "output_type": "stream",
     "text": [
      "Trainset shape: (5087, 3198)\n",
      "Testset shape: (570, 3198)\n"
     ]
    }
   ],
   "source": [
    "trainset = pd.read_csv(train_path)\n",
    "testset = pd.read_csv(test_path)\n",
    "print('Trainset shape: {}\\nTestset shape: {}'.format(trainset.shape, testset.shape))"
   ]
  },
  {
   "cell_type": "markdown",
   "id": "683bb853",
   "metadata": {},
   "source": [
    "## Change labels\n",
    "true = 1\n",
    "false = 0"
   ]
  },
  {
   "cell_type": "code",
   "execution_count": 4,
   "id": "39782d5f",
   "metadata": {},
   "outputs": [
    {
     "name": "stdout",
     "output_type": "stream",
     "text": [
      "train:  LABEL\n",
      "0    5050\n",
      "1      37\n",
      "Name: count, dtype: int64 \n",
      "\n",
      "test:  LABEL\n",
      "0    565\n",
      "1      5\n",
      "Name: count, dtype: int64\n"
     ]
    }
   ],
   "source": [
    "#NOTE: This cell cannot be run multiple times. Re-run cell above before running this again\n",
    "\n",
    "def change_labels(df):\n",
    "    df['LABEL'] = df['LABEL'].replace(1, 0)\n",
    "    df['LABEL'] = df['LABEL'].replace(2, 1)\n",
    "    return df\n",
    "\n",
    "new_train = change_labels(trainset)\n",
    "new_test = change_labels(testset)\n",
    "print('train: ',new_train['LABEL'].value_counts(), '\\n\\ntest: ', new_test['LABEL'].value_counts())\n",
    "\n",
    "trainset = new_train\n",
    "testset= new_test"
   ]
  },
  {
   "cell_type": "markdown",
   "id": "4bbef695",
   "metadata": {},
   "source": [
    "## Write to csv"
   ]
  },
  {
   "cell_type": "code",
   "execution_count": 5,
   "id": "eee67a11",
   "metadata": {},
   "outputs": [],
   "source": [
    "path_train_new = './data/train.csv'\n",
    "path_test_new = './data/test.csv'\n",
    "trainset.to_csv(path_train_new, index=False)\n",
    "testset.to_csv(path_test_new, index=False)"
   ]
  },
  {
   "cell_type": "markdown",
   "id": "16d26a4f",
   "metadata": {},
   "source": [
    "## Testing Code\n",
    "Some tests to verify some properties of the dataset still hold"
   ]
  },
  {
   "cell_type": "code",
   "execution_count": 17,
   "id": "56ee9d95",
   "metadata": {},
   "outputs": [],
   "source": [
    "_train_path = './data/train.csv'\n",
    "_test_path = './data/test.csv'\n",
    "\n",
    "_trainset = pd.read_csv(_train_path)\n",
    "_trainset.name = 'Training Set'\n",
    "_testset = pd.read_csv(_test_path)\n",
    "_testset.name = 'Testing Set'"
   ]
  },
  {
   "cell_type": "code",
   "execution_count": 20,
   "id": "00aa33eb",
   "metadata": {},
   "outputs": [],
   "source": [
    "def checkDims(examined, subjectTo):\n",
    "    assert examined.shape == subjectTo.shape, 'Dimensions of examined set does not match original.'\n",
    "    print('Dimemsion test passed for {}!'.format(examined.name))\n",
    "    \n",
    "def checkLabels(examined, subjectTo):\n",
    "    assert 'LABEL' in examined.columns and 'LABEL' in subjectTo.columns , 'LABEL column does not exist.'\n",
    "    \n",
    "    label_values_df1 = examined['LABEL'].tolist()\n",
    "    label_values_df2 = subjectTo['LABEL'].tolist()\n",
    "    \n",
    "  \n",
    "    assert label_values_df1 == label_values_df2 , 'Label missmatch between sets.'\n",
    "    print('Label test passed for {}!'.format(examined.name))\n"
   ]
  },
  {
   "cell_type": "code",
   "execution_count": 21,
   "id": "eae14096",
   "metadata": {},
   "outputs": [
    {
     "name": "stdout",
     "output_type": "stream",
     "text": [
      "Dimemsion test passed for Testing Set!\n",
      "Dimemsion test passed for Training Set!\n",
      "Label test passed for Testing Set!\n",
      "Label test passed for Training Set!\n"
     ]
    }
   ],
   "source": [
    "checkDims(examined=_testset, subjectTo=testset)\n",
    "checkDims(examined=_trainset, subjectTo=trainset)\n",
    "\n",
    "checkLabels(examined=_testset , subjectTo=testset)\n",
    "checkLabels(examined=_trainset, subjectTo=trainset)"
   ]
  },
  {
   "cell_type": "code",
   "execution_count": null,
   "id": "df050634",
   "metadata": {},
   "outputs": [],
   "source": []
  }
 ],
 "metadata": {
  "kernelspec": {
   "display_name": "Python 3 (ipykernel)",
   "language": "python",
   "name": "python3"
  },
  "language_info": {
   "codemirror_mode": {
    "name": "ipython",
    "version": 3
   },
   "file_extension": ".py",
   "mimetype": "text/x-python",
   "name": "python",
   "nbconvert_exporter": "python",
   "pygments_lexer": "ipython3",
   "version": "3.9.16"
  }
 },
 "nbformat": 4,
 "nbformat_minor": 5
}
